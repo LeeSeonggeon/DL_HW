{
 "cells": [
  {
   "cell_type": "code",
   "execution_count": 1,
   "id": "initial_id",
   "metadata": {
    "ExecuteTime": {
     "end_time": "2024-12-17T02:54:43.182907Z",
     "start_time": "2024-12-17T02:54:40.503770Z"
    }
   },
   "outputs": [
    {
     "name": "stdout",
     "output_type": "stream",
     "text": [
      "Defaulting to user installation because normal site-packages is not writeable\n",
      "Looking in indexes: https://pypi.org/simple, https://pypi.ngc.nvidia.com\n",
      "Collecting yfinance\n",
      "  Downloading yfinance-0.2.50-py2.py3-none-any.whl.metadata (5.5 kB)\n",
      "Collecting wandb\n",
      "  Downloading wandb-0.19.1-py3-none-manylinux_2_17_x86_64.manylinux2014_x86_64.whl.metadata (10 kB)\n",
      "Requirement already satisfied: pandas>=1.3.0 in /usr/local/lib/python3.10/dist-packages (from yfinance) (1.5.3)\n",
      "Requirement already satisfied: numpy>=1.16.5 in /usr/local/lib/python3.10/dist-packages (from yfinance) (1.24.4)\n",
      "Requirement already satisfied: requests>=2.31 in /usr/local/lib/python3.10/dist-packages (from yfinance) (2.31.0)\n",
      "Collecting multitasking>=0.0.7 (from yfinance)\n",
      "  Downloading multitasking-0.0.11-py3-none-any.whl.metadata (5.5 kB)\n",
      "Requirement already satisfied: lxml>=4.9.1 in /usr/local/lib/python3.10/dist-packages (from yfinance) (4.9.1)\n",
      "Requirement already satisfied: platformdirs>=2.0.0 in /usr/local/lib/python3.10/dist-packages (from yfinance) (4.2.0)\n",
      "Requirement already satisfied: pytz>=2022.5 in /usr/local/lib/python3.10/dist-packages (from yfinance) (2024.1)\n",
      "Collecting frozendict>=2.3.4 (from yfinance)\n",
      "  Downloading frozendict-2.4.6-cp310-cp310-manylinux_2_17_x86_64.manylinux2014_x86_64.whl.metadata (23 kB)\n",
      "Collecting peewee>=3.16.2 (from yfinance)\n",
      "  Downloading peewee-3.17.8.tar.gz (948 kB)\n",
      "\u001b[2K     \u001b[90m━━━━━━━━━━━━━━━━━━━━━━━━━━━━━━━━━━━━━━\u001b[0m \u001b[32m948.2/948.2 kB\u001b[0m \u001b[31m28.6 MB/s\u001b[0m eta \u001b[36m0:00:00\u001b[0m\n",
      "\u001b[?25h  Installing build dependencies ... \u001b[?25ldone\n",
      "\u001b[?25h  Getting requirements to build wheel ... \u001b[?25ldone\n",
      "\u001b[?25h  Preparing metadata (pyproject.toml) ... \u001b[?25ldone\n",
      "\u001b[?25hCollecting beautifulsoup4>=4.11.1 (from yfinance)\n",
      "  Downloading beautifulsoup4-4.12.3-py3-none-any.whl.metadata (3.8 kB)\n",
      "Collecting html5lib>=1.1 (from yfinance)\n",
      "  Downloading html5lib-1.1-py2.py3-none-any.whl.metadata (16 kB)\n",
      "Requirement already satisfied: click!=8.0.0,>=7.1 in /usr/local/lib/python3.10/dist-packages (from wandb) (8.1.7)\n",
      "Collecting docker-pycreds>=0.4.0 (from wandb)\n",
      "  Downloading docker_pycreds-0.4.0-py2.py3-none-any.whl.metadata (1.8 kB)\n",
      "Requirement already satisfied: gitpython!=3.1.29,>=1.0.0 in /usr/local/lib/python3.10/dist-packages (from wandb) (3.1.26)\n",
      "Requirement already satisfied: protobuf!=4.21.0,!=5.28.0,<6,>=3.19.0 in /usr/local/lib/python3.10/dist-packages (from wandb) (3.20.3)\n",
      "Requirement already satisfied: psutil>=5.0.0 in /usr/local/lib/python3.10/dist-packages (from wandb) (5.9.4)\n",
      "Requirement already satisfied: pydantic<3,>=2.6 in /usr/local/lib/python3.10/dist-packages (from wandb) (2.6.3)\n",
      "Requirement already satisfied: pyyaml in /usr/local/lib/python3.10/dist-packages (from wandb) (6.0.1)\n",
      "Collecting sentry-sdk>=2.0.0 (from wandb)\n",
      "  Downloading sentry_sdk-2.19.2-py2.py3-none-any.whl.metadata (9.9 kB)\n",
      "Collecting setproctitle (from wandb)\n",
      "  Downloading setproctitle-1.3.4-cp310-cp310-manylinux_2_5_x86_64.manylinux1_x86_64.manylinux_2_17_x86_64.manylinux2014_x86_64.whl.metadata (10 kB)\n",
      "Requirement already satisfied: setuptools in /usr/local/lib/python3.10/dist-packages (from wandb) (68.2.2)\n",
      "Requirement already satisfied: typing-extensions<5,>=4.4 in /usr/local/lib/python3.10/dist-packages (from wandb) (4.10.0)\n",
      "Requirement already satisfied: soupsieve>1.2 in /usr/local/lib/python3.10/dist-packages (from beautifulsoup4>=4.11.1->yfinance) (2.5)\n",
      "Requirement already satisfied: six>=1.4.0 in /usr/local/lib/python3.10/dist-packages (from docker-pycreds>=0.4.0->wandb) (1.16.0)\n",
      "Requirement already satisfied: gitdb<5,>=4.0.1 in /usr/local/lib/python3.10/dist-packages (from gitpython!=3.1.29,>=1.0.0->wandb) (4.0.5)\n",
      "Requirement already satisfied: webencodings in /usr/local/lib/python3.10/dist-packages (from html5lib>=1.1->yfinance) (0.5.1)\n",
      "Requirement already satisfied: python-dateutil>=2.8.1 in /usr/local/lib/python3.10/dist-packages (from pandas>=1.3.0->yfinance) (2.9.0.post0)\n",
      "Requirement already satisfied: annotated-types>=0.4.0 in /usr/local/lib/python3.10/dist-packages (from pydantic<3,>=2.6->wandb) (0.6.0)\n",
      "Requirement already satisfied: pydantic-core==2.16.3 in /usr/local/lib/python3.10/dist-packages (from pydantic<3,>=2.6->wandb) (2.16.3)\n",
      "Requirement already satisfied: charset-normalizer<4,>=2 in /usr/local/lib/python3.10/dist-packages (from requests>=2.31->yfinance) (3.3.2)\n",
      "Requirement already satisfied: idna<4,>=2.5 in /usr/local/lib/python3.10/dist-packages (from requests>=2.31->yfinance) (3.6)\n",
      "Requirement already satisfied: urllib3<3,>=1.21.1 in /usr/local/lib/python3.10/dist-packages (from requests>=2.31->yfinance) (1.26.18)\n",
      "Requirement already satisfied: certifi>=2017.4.17 in /usr/local/lib/python3.10/dist-packages (from requests>=2.31->yfinance) (2024.2.2)\n",
      "Requirement already satisfied: smmap<4,>=3.0.1 in /usr/local/lib/python3.10/dist-packages (from gitdb<5,>=4.0.1->gitpython!=3.1.29,>=1.0.0->wandb) (3.0.5)\n",
      "Downloading yfinance-0.2.50-py2.py3-none-any.whl (102 kB)\n",
      "\u001b[2K   \u001b[90m━━━━━━━━━━━━━━━━━━━━━━━━━━━━━━━━━━━━━━━\u001b[0m \u001b[32m102.2/102.2 kB\u001b[0m \u001b[31m331.8 MB/s\u001b[0m eta \u001b[36m0:00:00\u001b[0m\n",
      "\u001b[?25hDownloading wandb-0.19.1-py3-none-manylinux_2_17_x86_64.manylinux2014_x86_64.whl (20.0 MB)\n",
      "\u001b[2K   \u001b[90m━━━━━━━━━━━━━━━━━━━━━━━━━━━━━━━━━━━━━━━━\u001b[0m \u001b[32m20.0/20.0 MB\u001b[0m \u001b[31m163.2 MB/s\u001b[0m eta \u001b[36m0:00:00\u001b[0ma \u001b[36m0:00:01\u001b[0m\n",
      "\u001b[?25hDownloading beautifulsoup4-4.12.3-py3-none-any.whl (147 kB)\n",
      "\u001b[2K   \u001b[90m━━━━━━━━━━━━━━━━━━━━━━━━━━━━━━━━━━━━━━━\u001b[0m \u001b[32m147.9/147.9 kB\u001b[0m \u001b[31m337.6 MB/s\u001b[0m eta \u001b[36m0:00:00\u001b[0m\n",
      "\u001b[?25hDownloading docker_pycreds-0.4.0-py2.py3-none-any.whl (9.0 kB)\n",
      "Downloading frozendict-2.4.6-cp310-cp310-manylinux_2_17_x86_64.manylinux2014_x86_64.whl (117 kB)\n",
      "\u001b[2K   \u001b[90m━━━━━━━━━━━━━━━━━━━━━━━━━━━━━━━━━━━━━━━\u001b[0m \u001b[32m117.4/117.4 kB\u001b[0m \u001b[31m193.2 MB/s\u001b[0m eta \u001b[36m0:00:00\u001b[0m\n",
      "\u001b[?25hDownloading html5lib-1.1-py2.py3-none-any.whl (112 kB)\n",
      "\u001b[2K   \u001b[90m━━━━━━━━━━━━━━━━━━━━━━━━━━━━━━━━━━━━━━━\u001b[0m \u001b[32m112.2/112.2 kB\u001b[0m \u001b[31m340.3 MB/s\u001b[0m eta \u001b[36m0:00:00\u001b[0m\n",
      "\u001b[?25hDownloading multitasking-0.0.11-py3-none-any.whl (8.5 kB)\n",
      "Downloading sentry_sdk-2.19.2-py2.py3-none-any.whl (322 kB)\n",
      "\u001b[2K   \u001b[90m━━━━━━━━━━━━━━━━━━━━━━━━━━━━━━━━━━━━━━━\u001b[0m \u001b[32m322.9/322.9 kB\u001b[0m \u001b[31m213.3 MB/s\u001b[0m eta \u001b[36m0:00:00\u001b[0m\n",
      "\u001b[?25hDownloading setproctitle-1.3.4-cp310-cp310-manylinux_2_5_x86_64.manylinux1_x86_64.manylinux_2_17_x86_64.manylinux2014_x86_64.whl (30 kB)\n",
      "Building wheels for collected packages: peewee\n",
      "  Building wheel for peewee (pyproject.toml) ... \u001b[?25ldone\n",
      "\u001b[?25h  Created wheel for peewee: filename=peewee-3.17.8-cp310-cp310-linux_x86_64.whl size=843021 sha256=abfba4fb745233e02facaf20473aa264aae72ff1656576f72efebf3bf08214b7\n",
      "  Stored in directory: /tmp/pip-ephem-wheel-cache-yk_i3wcu/wheels/75/79/e5/8838db0594cc6c587142fd2563356392ade6255c5930411069\n",
      "Successfully built peewee\n",
      "\u001b[33mDEPRECATION: devscripts 2.22.1ubuntu1 has a non-standard version number. pip 24.1 will enforce this behaviour change. A possible replacement is to upgrade to a newer version of devscripts or contact the author to suggest that they release a version with a conforming version number. Discussion can be found at https://github.com/pypa/pip/issues/12063\u001b[0m\u001b[33m\n",
      "\u001b[0mInstalling collected packages: peewee, multitasking, setproctitle, sentry-sdk, html5lib, frozendict, docker-pycreds, beautifulsoup4, yfinance, wandb\n",
      "\u001b[31mERROR: pip's dependency resolver does not currently take into account all the packages that are installed. This behaviour is the source of the following dependency conflicts.\n",
      "konlpy 0.5.2 requires beautifulsoup4==4.6.0, but you have beautifulsoup4 4.12.3 which is incompatible.\u001b[0m\u001b[31m\n",
      "\u001b[0mSuccessfully installed beautifulsoup4-4.12.3 docker-pycreds-0.4.0 frozendict-2.4.6 html5lib-1.1 multitasking-0.0.11 peewee-3.17.8 sentry-sdk-2.19.2 setproctitle-1.3.4 wandb-0.19.1 yfinance-0.2.50\n",
      "\n",
      "\u001b[1m[\u001b[0m\u001b[34;49mnotice\u001b[0m\u001b[1;39;49m]\u001b[0m\u001b[39;49m A new release of pip is available: \u001b[0m\u001b[31;49m24.0\u001b[0m\u001b[39;49m -> \u001b[0m\u001b[32;49m24.3.1\u001b[0m\n",
      "\u001b[1m[\u001b[0m\u001b[34;49mnotice\u001b[0m\u001b[1;39;49m]\u001b[0m\u001b[39;49m To update, run: \u001b[0m\u001b[32;49mpython -m pip install --upgrade pip\u001b[0m\n"
     ]
    }
   ],
   "source": [
    "!pip install yfinance wandb"
   ]
  },
  {
   "cell_type": "code",
   "execution_count": 2,
   "id": "83b14bb70f4c00fa",
   "metadata": {
    "ExecuteTime": {
     "end_time": "2024-12-17T02:54:45.308378Z",
     "start_time": "2024-12-17T02:54:43.184901Z"
    }
   },
   "outputs": [
    {
     "name": "stderr",
     "output_type": "stream",
     "text": [
      "[*********************100%***********************]  1 of 1 completed\n"
     ]
    }
   ],
   "source": [
    "import yfinance as yf\n",
    "\n",
    "btc_data = yf.download('BTC-KRW', start='2023-12-01', end='2024-12-01', interval='1d')\n",
    "btc_data.to_csv('BTC-KRW_raw.csv')"
   ]
  },
  {
   "cell_type": "code",
   "execution_count": 3,
   "id": "94123df315cff731",
   "metadata": {
    "ExecuteTime": {
     "end_time": "2024-12-17T03:01:13.803992Z",
     "start_time": "2024-12-17T03:01:13.040728Z"
    }
   },
   "outputs": [],
   "source": [
    "import torch\n",
    "from torch import nn, optim\n",
    "from torch.utils.data import Dataset, DataLoader\n",
    "from datetime import datetime\n",
    "import os\n",
    "import wandb\n",
    "from pathlib import Path\n",
    "import numpy as np\n",
    "import pandas as pd\n",
    "import matplotlib.pyplot as plt"
   ]
  },
  {
   "cell_type": "code",
   "execution_count": 4,
   "id": "e0ee24552e49600",
   "metadata": {
    "ExecuteTime": {
     "end_time": "2024-12-17T02:54:51.951120Z",
     "start_time": "2024-12-17T02:54:51.945619Z"
    }
   },
   "outputs": [],
   "source": [
    "#체크포인트 경로 설정 및 폴더 만들기\n",
    "CHECKPOINT_FILE_PATH = os.path.join(os.getcwd(), 'checkpoints_regression')\n",
    "\n",
    "if not os.path.isdir(CHECKPOINT_FILE_PATH):\n",
    "    os.makedirs(CHECKPOINT_FILE_PATH)"
   ]
  },
  {
   "cell_type": "code",
   "execution_count": 5,
   "id": "afb0c2c40dd724e0",
   "metadata": {
    "ExecuteTime": {
     "end_time": "2024-12-17T02:54:51.974897Z",
     "start_time": "2024-12-17T02:54:51.953107Z"
    }
   },
   "outputs": [],
   "source": [
    "from utils.utils import strfdelta\n",
    "from utils.early_stopping import EarlyStopping\n",
    "\n",
    "class RegressionTrainer:\n",
    "  def __init__(\n",
    "    self, project_name, model, optimizer, train_data_loader, validation_data_loader, transforms,\n",
    "    run_time_str, wandb, device, checkpoint_file_path\n",
    "  ):\n",
    "    self.project_name = project_name\n",
    "    self.model = model\n",
    "    self.optimizer = optimizer\n",
    "    self.train_data_loader = train_data_loader\n",
    "    self.validation_data_loader = validation_data_loader\n",
    "    self.transforms = transforms\n",
    "    self.run_time_str = run_time_str\n",
    "    self.wandb = wandb\n",
    "    self.device = device\n",
    "    self.checkpoint_file_path = checkpoint_file_path\n",
    "\n",
    "    # Use a built-in loss function\n",
    "    self.loss_fn = nn.MSELoss()\n",
    "\n",
    "  def do_train(self):\n",
    "    self.model.train()  # Explained at 'Diverse Techniques' section\n",
    "\n",
    "    loss_train = 0.0\n",
    "    num_trains = 0\n",
    "\n",
    "    for train_batch in self.train_data_loader:\n",
    "      input_train, target_train = train_batch\n",
    "      input_train = input_train.to(device=self.device)\n",
    "      target_train = target_train.to(device=self.device)\n",
    "\n",
    "      if self.transforms:\n",
    "        input_train = self.transforms(input_train)\n",
    "\n",
    "      output_train = self.model(input_train)\n",
    "\n",
    "      loss = self.loss_fn(output_train.squeeze(dim=-1), target_train)\n",
    "\n",
    "      loss_train += loss.item()\n",
    "\n",
    "      num_trains += 1\n",
    "\n",
    "      self.optimizer.zero_grad()\n",
    "      loss.backward()\n",
    "      self.optimizer.step()\n",
    "\n",
    "    train_loss = loss_train / num_trains\n",
    "\n",
    "    return train_loss\n",
    "\n",
    "  def do_validation(self):\n",
    "    self.model.eval()   # Explained at 'Diverse Techniques' section\n",
    "\n",
    "    loss_validation = 0.0\n",
    "    num_validations = 0\n",
    "\n",
    "    with torch.no_grad():\n",
    "      for validation_batch in self.validation_data_loader:\n",
    "        input_validation, target_validation = validation_batch\n",
    "        input_validation = input_validation.to(device=self.device)\n",
    "        target_validation = target_validation.to(device=self.device)\n",
    "\n",
    "        if self.transforms:\n",
    "          input_validation = self.transforms(input_validation)\n",
    "\n",
    "        output_validation = self.model(input_validation)\n",
    "\n",
    "        loss_validation += self.loss_fn(output_validation.squeeze(dim=-1), target_validation).item()\n",
    "\n",
    "        num_validations += 1\n",
    "\n",
    "    validation_loss = loss_validation / num_validations\n",
    "\n",
    "    return validation_loss\n",
    "\n",
    "  def train_loop(self):\n",
    "    early_stopping = EarlyStopping(\n",
    "      patience=self.wandb.config.early_stop_patience,\n",
    "      delta=self.wandb.config.early_stop_delta,\n",
    "      project_name=self.project_name,\n",
    "      checkpoint_file_path=self.checkpoint_file_path,\n",
    "      run_time_str=self.run_time_str\n",
    "    )\n",
    "    n_epochs = self.wandb.config.epochs\n",
    "    training_start_time = datetime.now()\n",
    "\n",
    "    for epoch in range(1, n_epochs + 1):\n",
    "      train_loss = self.do_train()\n",
    "\n",
    "      if epoch == 1 or epoch % self.wandb.config.validation_intervals == 0:\n",
    "        validation_loss = self.do_validation()\n",
    "\n",
    "        elapsed_time = datetime.now() - training_start_time\n",
    "        epoch_per_second = 1000 * epoch / elapsed_time.microseconds\n",
    "\n",
    "        message, early_stop = early_stopping.check_and_save(validation_loss, self.model)\n",
    "\n",
    "        print(\n",
    "          f\"[Epoch {epoch:>3}] \"\n",
    "          f\"T_loss: {train_loss:7.5f}, \"\n",
    "          f\"V_loss: {validation_loss:7.5f}, \"\n",
    "          f\"{message} | \"\n",
    "          f\"T_time: {strfdelta(elapsed_time, '%H:%M:%S')}, \"\n",
    "          f\"T_speed: {epoch_per_second:4.3f}\"\n",
    "        )\n",
    "\n",
    "        self.wandb.log({\n",
    "          \"Epoch\": epoch,\n",
    "          \"Training loss\": train_loss,\n",
    "          \"Validation loss\": validation_loss,\n",
    "          \"Training speed (epochs/sec.)\": epoch_per_second,\n",
    "        })\n",
    "\n",
    "        if early_stop:\n",
    "          break\n",
    "\n",
    "    elapsed_time = datetime.now() - training_start_time\n",
    "    print(f\"Final training time: {strfdelta(elapsed_time, '%H:%M:%S')}\")"
   ]
  },
  {
   "cell_type": "code",
   "execution_count": 6,
   "id": "90ff5e43a4e6796e",
   "metadata": {
    "ExecuteTime": {
     "end_time": "2024-12-17T05:49:58.591897Z",
     "start_time": "2024-12-17T05:49:58.577653Z"
    }
   },
   "outputs": [],
   "source": [
    "def get_cryptocurrency_data(\n",
    "    sequence_size=10, validation_size=100, test_size=10, target_column='Close', y_normalizer=1.0e7, is_regression=True\n",
    "):\n",
    "  btc_krw_path = os.path.join(os.getcwd(), \"BTC_KRW.csv\")\n",
    "  df = pd.read_csv(btc_krw_path)\n",
    "  row_size = len(df)\n",
    "  # ['Date', 'Open', 'High', 'Low', 'Close', 'Volume']\n",
    "  date_list = df['Date']\n",
    "\n",
    "  df = df.drop(columns=['Date'])\n",
    "\n",
    "  data_size = row_size - sequence_size\n",
    "  train_size = data_size - (validation_size + test_size)\n",
    "  #################################################################################################\n",
    "\n",
    "  row_cursor = 0\n",
    "\n",
    "  X_train_list = []\n",
    "  y_train_regression_list = []\n",
    "  y_train_classification_list = []\n",
    "  y_train_date = []\n",
    "  for idx in range(0, train_size):\n",
    "    sequence_data = df.iloc[idx: idx + sequence_size].values  # sequence_data.shape: (sequence_size, 5)\n",
    "    X_train_list.append(torch.from_numpy(sequence_data))\n",
    "    y_train_regression_list.append(df.iloc[idx + sequence_size][target_column])\n",
    "    y_train_classification_list.append(\n",
    "      1 if df.iloc[idx + sequence_size][target_column] >= df.iloc[idx + sequence_size - 1][target_column] else 0\n",
    "    )\n",
    "    y_train_date.append(date_list[idx + sequence_size])\n",
    "    row_cursor += 1\n",
    "\n",
    "  X_train = torch.stack(X_train_list, dim=0).to(torch.float)\n",
    "  y_train_regression = torch.tensor(y_train_regression_list, dtype=torch.float32) / y_normalizer\n",
    "  y_train_classification = torch.tensor(y_train_classification_list, dtype=torch.int64)\n",
    "\n",
    "  m = X_train.mean(dim=0, keepdim=True)\n",
    "  s = X_train.std(dim=0, keepdim=True)\n",
    "  X_train = (X_train - m) / s\n",
    "\n",
    "  #################################################################################################\n",
    "\n",
    "  X_validation_list = []\n",
    "  y_validation_regression_list = []\n",
    "  y_validation_classification_list = []\n",
    "  y_validation_date = []\n",
    "  for idx in range(row_cursor, row_cursor + validation_size):\n",
    "    sequence_data = df.iloc[idx: idx + sequence_size].values  # sequence_data.shape: (sequence_size, 5)\n",
    "    X_validation_list.append(torch.from_numpy(sequence_data))\n",
    "    y_validation_regression_list.append(df.iloc[idx + sequence_size][target_column])\n",
    "    y_validation_classification_list.append(\n",
    "      1 if df.iloc[idx + sequence_size][target_column] >= df.iloc[idx + sequence_size - 1][target_column] else 0\n",
    "    )\n",
    "    y_validation_date.append(date_list[idx + sequence_size])\n",
    "    row_cursor += 1\n",
    "\n",
    "  X_validation = torch.stack(X_validation_list, dim=0).to(torch.float)\n",
    "  y_validation_regression = torch.tensor(y_validation_regression_list, dtype=torch.float32) / y_normalizer\n",
    "  y_validation_classification = torch.tensor(y_validation_classification_list, dtype=torch.int64)\n",
    "\n",
    "  X_validation = (X_validation - m) / s\n",
    "  #################################################################################################\n",
    "\n",
    "  X_test_list = []\n",
    "  y_test_regression_list = []\n",
    "  y_test_classification_list = []\n",
    "  y_test_date = []\n",
    "  for idx in range(row_cursor, row_cursor + test_size):\n",
    "    sequence_data = df.iloc[idx: idx + sequence_size].values  # sequence_data.shape: (sequence_size, 5)\n",
    "    X_test_list.append(torch.from_numpy(sequence_data))\n",
    "    y_test_regression_list.append(df.iloc[idx + sequence_size][target_column])\n",
    "    y_test_classification_list.append(\n",
    "      1 if df.iloc[idx + sequence_size][target_column] > df.iloc[idx + sequence_size - 1][target_column] else 0\n",
    "    )\n",
    "    y_test_date.append(date_list[idx + sequence_size])\n",
    "    row_cursor += 1\n",
    "\n",
    "  X_test = torch.stack(X_test_list, dim=0).to(torch.float)\n",
    "  y_test_regression = torch.tensor(y_test_regression_list, dtype=torch.float32) / y_normalizer\n",
    "  y_test_classification = torch.tensor(y_test_classification_list, dtype=torch.int64)\n",
    "\n",
    "  X_test = (X_test - m) / s\n",
    "\n",
    "  if is_regression:\n",
    "    return (\n",
    "      X_train, X_validation, X_test,\n",
    "      y_train_regression, y_validation_regression, y_test_regression,\n",
    "      y_train_date, y_validation_date, y_test_date\n",
    "    )\n",
    "  else:\n",
    "    return (\n",
    "      X_train, X_validation, X_test,\n",
    "      y_train_classification, y_validation_classification, y_test_classification,\n",
    "      y_train_date, y_validation_date, y_test_date\n",
    "    )"
   ]
  },
  {
   "cell_type": "code",
   "execution_count": 7,
   "id": "29bd0f164ffa9101",
   "metadata": {
    "ExecuteTime": {
     "end_time": "2024-12-17T05:49:58.923166Z",
     "start_time": "2024-12-17T05:49:58.917245Z"
    }
   },
   "outputs": [],
   "source": [
    "class CryptoCurrencyDataset(Dataset):\n",
    "  def __init__(self, X, y, is_regression=True):\n",
    "    self.X = X\n",
    "    self.y = y\n",
    "\n",
    "    assert len(self.X) == len(self.y)\n",
    "\n",
    "  def __len__(self):\n",
    "    return len(self.X)\n",
    "\n",
    "  def __getitem__(self, idx):\n",
    "    X = self.X[idx]\n",
    "    y = self.y[idx]\n",
    "    return X, y\n",
    "\n",
    "  def __str__(self):\n",
    "    str = \"Data Size: {0}, Input Shape: {1}, Target Shape: {2}\".format(\n",
    "      len(self.X), self.X.shape, self.y.shape\n",
    "    )\n",
    "    return str"
   ]
  },
  {
   "cell_type": "code",
   "execution_count": 8,
   "id": "c0ee79dca0c794c2",
   "metadata": {
    "ExecuteTime": {
     "end_time": "2024-12-17T07:06:43.932680Z",
     "start_time": "2024-12-17T07:06:43.925518Z"
    }
   },
   "outputs": [],
   "source": [
    "def get_btc_krw_data(sequence_size=21, validation_size=150, test_size=30, is_regression=True):\n",
    "  X_train, X_validation, X_test, y_train, y_validation, y_test, y_train_date, y_validation_date, y_test_date = get_cryptocurrency_data(\n",
    "    sequence_size= sequence_size, validation_size=validation_size, test_size=test_size, target_column='Close', y_normalizer=1.0e7, is_regression=is_regression\n",
    "  ) #데이터 분할\n",
    "  \n",
    "  #데이터를 커스텀 dataset에 저장\n",
    "  train_crypto_currency_dataset = CryptoCurrencyDataset(X=X_train, y=y_train)\n",
    "  validation_crypto_currency_dataset = CryptoCurrencyDataset(X=X_validation, y=y_validation)\n",
    "  test_crypto_currency_dataset = CryptoCurrencyDataset(X=X_test, y=y_test)\n",
    "\n",
    "  #dataset을 dataloader에 저장해 배치 단위로 사용할 수 있게 함\n",
    "  train_data_loader = DataLoader(\n",
    "    dataset = train_crypto_currency_dataset,batch_size=wandb.config.batch_size,shuffle=True\n",
    "  )\n",
    "  validation_data_loader = DataLoader(\n",
    "    dataset = validation_crypto_currency_dataset,batch_size=wandb.config.batch_size,shuffle=True\n",
    "  )\n",
    "  test_data_loader = DataLoader(\n",
    "    dataset=test_crypto_currency_dataset,batch_size=len(test_crypto_currency_dataset),shuffle=True\n",
    "  )\n",
    "  #데이터 로더 반환\n",
    "  return train_data_loader, validation_data_loader, test_data_loader"
   ]
  },
  {
   "cell_type": "code",
   "execution_count": 9,
   "id": "a24537ae50a460a7",
   "metadata": {
    "ExecuteTime": {
     "end_time": "2024-12-17T07:06:44.159175Z",
     "start_time": "2024-12-17T07:06:44.152614Z"
    }
   },
   "outputs": [],
   "source": [
    "def get_model():\n",
    "  class MyModel(nn.Module):\n",
    "    def __init__(self, n_input, n_output):\n",
    "      super().__init__()\n",
    "      \n",
    "      self.lstm=nn.LSTM(input_size = n_input, hidden_size = 128, num_layers = 2, batch_first = True)\n",
    "      self.fcn = nn.Linear(in_features=128, out_features=n_output)\n",
    "      \n",
    "    def forward(self, x):\n",
    "      x, hidden = self.lstm(x)\n",
    "      x = x[:,-1:]\n",
    "      x = self.fcn(x)\n",
    "      return x\n",
    "  \n",
    "  # 모델을 만들어서 주면 이후로 모델을 다시 만들필요 없으므로 함수 내에서 클래스 선언\n",
    "  my_model = MyModel(n_input=5, n_output=1)\n",
    "  return my_model"
   ]
  },
  {
   "cell_type": "code",
   "execution_count": 10,
   "id": "767512fc6dbc491f",
   "metadata": {
    "ExecuteTime": {
     "end_time": "2024-12-17T07:06:44.304342Z",
     "start_time": "2024-12-17T07:06:44.296903Z"
    }
   },
   "outputs": [],
   "source": [
    "def main_train(epochs, batch_size, validation_intervals, learning_rate ,early_stop_patience, early_stop_delta, weight_decay):\n",
    "  run_time_str = datetime.now().astimezone().strftime(\"%Y_%m_%d_%H_%M_%S\")\n",
    "  \n",
    "  config = {\n",
    "    'epochs': epochs,\n",
    "    'batch_size': batch_size,\n",
    "    'validation_intervals': validation_intervals,\n",
    "    'learning_rate': learning_rate,\n",
    "    'early_stop_patience': early_stop_patience,\n",
    "    'early_stop_delta': early_stop_delta,\n",
    "    'weight_decay': weight_decay\n",
    "  }\n",
    "  \n",
    "  project_name = 'lstm_regression_btc_krw'\n",
    "  wandb.init(\n",
    "    mode = 'online',\n",
    "    project =project_name,\n",
    "    notes = 'btc_krw experiment with lstm',\n",
    "    tags=[\"lstm\", \"regression\",\"btc_krw\"],\n",
    "    name = run_time_str,\n",
    "    config = config\n",
    "  )\n",
    "  \n",
    "  train_data_loader, validation_data_loader, _=get_btc_krw_data()\n",
    "  device = torch.device('cuda:0' if torch.cuda.is_available() else 'cpu')\n",
    "  \n",
    "  model = get_model()\n",
    "  model.to(device)\n",
    "  \n",
    "  optimizer = optim.Adam(model.parameters(), lr=learning_rate, weight_decay=wandb.config.weight_decay)\n",
    "  \n",
    "  regression_trainer = RegressionTrainer(\n",
    "    project_name, model, optimizer, train_data_loader, validation_data_loader, None, run_time_str, wandb, device, CHECKPOINT_FILE_PATH\n",
    "  )\n",
    "  regression_trainer.train_loop()\n",
    "  \n",
    "  wandb.finish()"
   ]
  },
  {
   "cell_type": "code",
   "execution_count": 11,
   "id": "232949e297a20651",
   "metadata": {
    "ExecuteTime": {
     "end_time": "2024-12-17T07:06:44.479157Z",
     "start_time": "2024-12-17T07:06:44.473089Z"
    }
   },
   "outputs": [],
   "source": [
    "#test를 위함 함수\n",
    "def test(test_model):\n",
    "  _,_, test_data_loader = get_btc_krw_data()\n",
    "  \n",
    "  test_model.eval()\n",
    "  \n",
    "  y_normalizer= 100\n",
    "  \n",
    "  print(\"[TEST DATA]\")\n",
    "  with torch.no_grad():\n",
    "    for test_batch in test_data_loader:\n",
    "      input_test, target_test = test_batch \n",
    "      output_test = test_model(input_test)\n",
    "      \n",
    "    for idx, (output, target) in enumerate(zip(output_test, target_test)):\n",
    "      print(\"{0:2}: {1:6,.2f} <--> {2:6,.2f} (Loss: {3:>13,.2f})\".format(\n",
    "        idx,\n",
    "        output.item() * y_normalizer,\n",
    "        target.item() * y_normalizer,\n",
    "        abs(output.squeeze(dim=-1).item() - target.item()) * y_normalizer\n",
    "      ))"
   ]
  },
  {
   "cell_type": "code",
   "execution_count": 12,
   "id": "cedbdbba4691420f",
   "metadata": {
    "ExecuteTime": {
     "end_time": "2024-12-17T07:06:44.634365Z",
     "start_time": "2024-12-17T07:06:44.626104Z"
    }
   },
   "outputs": [],
   "source": [
    "#모든 데이터셋에 대해 예측을 진행하고, 그래프로 표시\n",
    "def predict_all(test_model):\n",
    "  y_normalizer= 100\n",
    "  X_train, X_validation, X_test, y_train, y_validation, y_test, y_train_date, y_validation_date, y_test_date = get_cryptocurrency_data(\n",
    "    sequence_size=21, validation_size=150, test_size=30,\n",
    "      target_column='Close', y_normalizer=1.0e7, is_regression=True\n",
    "  )\n",
    "  train_crypto_currency_dataset = CryptoCurrencyDataset(X=X_train, y=y_train)\n",
    "  validation_crypto_currency_dataset = CryptoCurrencyDataset(X=X_validation, y=y_validation)\n",
    "  test_crypto_currency_dataset = CryptoCurrencyDataset(X=X_test, y=y_test)\n",
    "  \n",
    "  dataset_list = [\n",
    "    train_crypto_currency_dataset,validation_crypto_currency_dataset,test_crypto_currency_dataset\n",
    "  ]\n",
    "  dataset_labels = [\n",
    "    \"train\", \"validation\", \"test\"\n",
    "  ]\n",
    "  num = 0\n",
    "  fig, axs = plt.subplots(3, 1, figsize=(6,9))\n",
    "  \n",
    "  for i in range(3):#dataset_list에 들어있는 dataset을 순서대로 예측\n",
    "    X = []\n",
    "    TARGET_Y = []\n",
    "    PREDICTION_Y = []\n",
    "    \n",
    "    for data in dataset_list[i]:\n",
    "      input, target = data\n",
    "      prediction = test_model(input.unsqueeze(0).squeeze(-1).squeeze(-1))\n",
    "      \n",
    "      X.append(num)\n",
    "      TARGET_Y.append(target.item() * y_normalizer)\n",
    "      PREDICTION_Y.append(prediction.item() * y_normalizer)\n",
    "      \n",
    "      num += 1\n",
    "      \n",
    "    axs[i].plot(X, TARGET_Y, label = 'target')\n",
    "    axs[i].plot(X, PREDICTION_Y, label = 'prediction')\n",
    "    axs[i].set_title(dataset_labels[i])\n",
    "    axs[i].legend()\n",
    "  \n",
    "  plt.tight_layout()\n",
    "  plt.show()"
   ]
  },
  {
   "cell_type": "code",
   "execution_count": 13,
   "id": "fb57398849ea5f69",
   "metadata": {
    "ExecuteTime": {
     "end_time": "2024-12-17T07:06:44.915052Z",
     "start_time": "2024-12-17T07:06:44.908611Z"
    }
   },
   "outputs": [],
   "source": [
    "def main_test(epochs, batch_size, validation_intervals, learning_rate ,early_stop_patience, early_stop_delta):\n",
    "  run_time_str = datetime.now().astimezone().strftime('%Y-%m-%d_%H-%M-%S')\n",
    "  \n",
    "  config = {\n",
    "    'epochs': epochs,\n",
    "    'batch_size': batch_size,\n",
    "    'validation_intervals': validation_intervals,\n",
    "    'learning_rate': learning_rate,\n",
    "    'early_stop_patience': early_stop_patience,\n",
    "    'early_stop_delta': early_stop_delta,\n",
    "  }\n",
    "\n",
    "  project_name = \"lstm_regression_btc_krw\"\n",
    "  wandb.init(\n",
    "    mode=\"disabled\",\n",
    "    project=project_name,\n",
    "    notes=\"btc_krw experiment with lstm\",\n",
    "    tags=[\"lstm\", \"regression\", \"btc_krw\"],\n",
    "    name=run_time_str,\n",
    "    config=config\n",
    "  )\n",
    "\n",
    "  test_model = get_model()\n",
    "\n",
    "  project_name = \"lstm_regression_btc_krw\"\n",
    "  latest_file_path = os.path.join(\n",
    "    CHECKPOINT_FILE_PATH, f\"{project_name}_checkpoint_latest.pt\"\n",
    "  )\n",
    "  print(\"MODEL FILE: {0}\".format(latest_file_path))\n",
    "  test_model.load_state_dict(torch.load(latest_file_path, map_location=torch.device('cpu')))\n",
    "\n",
    "  test(test_model)\n",
    "  predict_all(test_model)"
   ]
  },
  {
   "cell_type": "code",
   "execution_count": 14,
   "id": "53caed4dd833e740",
   "metadata": {
    "ExecuteTime": {
     "end_time": "2024-12-17T07:31:17.567435Z",
     "start_time": "2024-12-17T07:30:45.355896Z"
    }
   },
   "outputs": [
    {
     "name": "stderr",
     "output_type": "stream",
     "text": [
      "\u001b[34m\u001b[1mwandb\u001b[0m: Using wandb-core as the SDK backend.  Please refer to https://wandb.me/wandb-core for more information.\n",
      "\u001b[34m\u001b[1mwandb\u001b[0m: Logging into wandb.ai. (Learn how to deploy a W&B server locally: https://wandb.me/wandb-server)\n",
      "\u001b[34m\u001b[1mwandb\u001b[0m: You can find your API key in your browser here: https://wandb.ai/authorize\n",
      "\u001b[34m\u001b[1mwandb\u001b[0m: Paste an API key from your profile and hit enter, or press ctrl+c to quit:"
     ]
    },
    {
     "name": "stdout",
     "output_type": "stream",
     "text": [
      " ········\n"
     ]
    },
    {
     "name": "stderr",
     "output_type": "stream",
     "text": [
      "\u001b[34m\u001b[1mwandb\u001b[0m: Appending key for api.wandb.ai to your netrc file: /home/work/.netrc\n",
      "/usr/local/lib/python3.10/dist-packages/pydantic/main.py:314: UserWarning: Pydantic serializer warnings:\n",
      "  Expected `list[str]` but got `tuple` - serialized value may not be as expected\n",
      "  return self.__pydantic_serializer__.to_python(\n"
     ]
    },
    {
     "data": {
      "text/html": [
       "Tracking run with wandb version 0.19.1"
      ],
      "text/plain": [
       "<IPython.core.display.HTML object>"
      ]
     },
     "metadata": {},
     "output_type": "display_data"
    },
    {
     "data": {
      "text/html": [
       "Run data is saved locally in <code>/home/work/DL/4/wandb/run-20241217_074944-kmzgb2ij</code>"
      ],
      "text/plain": [
       "<IPython.core.display.HTML object>"
      ]
     },
     "metadata": {},
     "output_type": "display_data"
    },
    {
     "data": {
      "text/html": [
       "Syncing run <strong><a href='https://wandb.ai/tmdrjs0040/lstm_regression_btc_krw/runs/kmzgb2ij' target=\"_blank\">2024_12_17_07_49_28</a></strong> to <a href='https://wandb.ai/tmdrjs0040/lstm_regression_btc_krw' target=\"_blank\">Weights & Biases</a> (<a href='https://wandb.me/developer-guide' target=\"_blank\">docs</a>)<br>"
      ],
      "text/plain": [
       "<IPython.core.display.HTML object>"
      ]
     },
     "metadata": {},
     "output_type": "display_data"
    },
    {
     "data": {
      "text/html": [
       " View project at <a href='https://wandb.ai/tmdrjs0040/lstm_regression_btc_krw' target=\"_blank\">https://wandb.ai/tmdrjs0040/lstm_regression_btc_krw</a>"
      ],
      "text/plain": [
       "<IPython.core.display.HTML object>"
      ]
     },
     "metadata": {},
     "output_type": "display_data"
    },
    {
     "data": {
      "text/html": [
       " View run at <a href='https://wandb.ai/tmdrjs0040/lstm_regression_btc_krw/runs/kmzgb2ij' target=\"_blank\">https://wandb.ai/tmdrjs0040/lstm_regression_btc_krw/runs/kmzgb2ij</a>"
      ],
      "text/plain": [
       "<IPython.core.display.HTML object>"
      ]
     },
     "metadata": {},
     "output_type": "display_data"
    },
    {
     "name": "stderr",
     "output_type": "stream",
     "text": [
      "/usr/local/lib/python3.10/dist-packages/torch/nn/modules/loss.py:535: UserWarning: Using a target size (torch.Size([32])) that is different to the input size (torch.Size([32, 1])). This will likely lead to incorrect results due to broadcasting. Please ensure they have the same size.\n",
      "  return F.mse_loss(input, target, reduction=self.reduction)\n",
      "/usr/local/lib/python3.10/dist-packages/torch/nn/modules/loss.py:535: UserWarning: Using a target size (torch.Size([7])) that is different to the input size (torch.Size([7, 1])). This will likely lead to incorrect results due to broadcasting. Please ensure they have the same size.\n",
      "  return F.mse_loss(input, target, reduction=self.reduction)\n",
      "/usr/local/lib/python3.10/dist-packages/torch/nn/modules/loss.py:535: UserWarning: Using a target size (torch.Size([22])) that is different to the input size (torch.Size([22, 1])). This will likely lead to incorrect results due to broadcasting. Please ensure they have the same size.\n",
      "  return F.mse_loss(input, target, reduction=self.reduction)\n"
     ]
    },
    {
     "name": "stdout",
     "output_type": "stream",
     "text": [
      "[Epoch   1] T_loss: 5.70936, V_loss: 40.05357, Early stopping is stated! | T_time: 00:00:00, T_speed: 0.002\n",
      "[Epoch  10] T_loss: 5.32291, V_loss: 40.08896, Early stopping counter: 1 out of 10 | T_time: 00:00:04, T_speed: 0.119\n",
      "[Epoch  20] T_loss: 5.25805, V_loss: 43.82389, Early stopping counter: 2 out of 10 | T_time: 00:00:07, T_speed: 0.021\n",
      "[Epoch  30] T_loss: 5.26008, V_loss: 40.34819, Early stopping counter: 3 out of 10 | T_time: 00:00:11, T_speed: 0.036\n",
      "[Epoch  40] T_loss: 5.25311, V_loss: 42.60080, Early stopping counter: 4 out of 10 | T_time: 00:00:15, T_speed: 0.057\n",
      "[Epoch  50] T_loss: 5.26227, V_loss: 41.63067, Early stopping counter: 5 out of 10 | T_time: 00:00:19, T_speed: 0.088\n",
      "[Epoch  60] T_loss: 5.26933, V_loss: 39.47575, V_loss decreased (40.05357 --> 39.47575). Saving model... | T_time: 00:00:23, T_speed: 0.140\n",
      "[Epoch  70] T_loss: 5.29066, V_loss: 40.90744, Early stopping counter: 1 out of 10 | T_time: 00:00:27, T_speed: 0.218\n",
      "[Epoch  80] T_loss: 5.32411, V_loss: 39.52161, Early stopping counter: 2 out of 10 | T_time: 00:00:31, T_speed: 0.420\n",
      "[Epoch  90] T_loss: 5.29200, V_loss: 41.04607, Early stopping counter: 3 out of 10 | T_time: 00:00:35, T_speed: 1.459\n",
      "[Epoch 100] T_loss: 5.28206, V_loss: 41.90423, Early stopping counter: 4 out of 10 | T_time: 00:00:38, T_speed: 0.108\n",
      "[Epoch 110] T_loss: 5.25498, V_loss: 42.72520, Early stopping counter: 5 out of 10 | T_time: 00:00:42, T_speed: 0.137\n",
      "[Epoch 120] T_loss: 5.33636, V_loss: 41.03671, Early stopping counter: 6 out of 10 | T_time: 00:00:46, T_speed: 0.180\n",
      "[Epoch 130] T_loss: 5.25664, V_loss: 39.69064, Early stopping counter: 7 out of 10 | T_time: 00:00:50, T_speed: 0.248\n",
      "[Epoch 140] T_loss: 5.26896, V_loss: 42.37648, Early stopping counter: 8 out of 10 | T_time: 00:00:54, T_speed: 0.372\n",
      "[Epoch 150] T_loss: 5.28070, V_loss: 41.14895, Early stopping counter: 9 out of 10 | T_time: 00:00:58, T_speed: 0.609\n",
      "[Epoch 160] T_loss: 5.28627, V_loss: 42.35823, Early stopping counter: 10 out of 10 *** TRAIN EARLY STOPPED! *** | T_time: 00:01:02, T_speed: 1.467\n",
      "Final training time: 00:01:02\n"
     ]
    },
    {
     "data": {
      "text/html": [],
      "text/plain": [
       "<IPython.core.display.HTML object>"
      ]
     },
     "metadata": {},
     "output_type": "display_data"
    },
    {
     "data": {
      "text/html": [
       "<br>    <style><br>        .wandb-row {<br>            display: flex;<br>            flex-direction: row;<br>            flex-wrap: wrap;<br>            justify-content: flex-start;<br>            width: 100%;<br>        }<br>        .wandb-col {<br>            display: flex;<br>            flex-direction: column;<br>            flex-basis: 100%;<br>            flex: 1;<br>            padding: 10px;<br>        }<br>    </style><br><div class=\"wandb-row\"><div class=\"wandb-col\"><h3>Run history:</h3><br/><table class=\"wandb\"><tr><td>Epoch</td><td>▁▁▂▂▃▃▄▄▄▅▅▆▆▇▇██</td></tr><tr><td>Training loss</td><td>█▂▁▁▁▁▁▂▂▂▁▁▂▁▁▁▂</td></tr><tr><td>Training speed (epochs/sec.)</td><td>▁▂▁▁▁▁▂▂▃█▂▂▂▂▃▄█</td></tr><tr><td>Validation loss</td><td>▂▂█▂▆▄▁▃▁▄▅▆▄▁▆▄▆</td></tr></table><br/></div><div class=\"wandb-col\"><h3>Run summary:</h3><br/><table class=\"wandb\"><tr><td>Epoch</td><td>160</td></tr><tr><td>Training loss</td><td>5.28627</td></tr><tr><td>Training speed (epochs/sec.)</td><td>1.46675</td></tr><tr><td>Validation loss</td><td>42.35823</td></tr></table><br/></div></div>"
      ],
      "text/plain": [
       "<IPython.core.display.HTML object>"
      ]
     },
     "metadata": {},
     "output_type": "display_data"
    },
    {
     "data": {
      "text/html": [
       " View run <strong style=\"color:#cdcd00\">2024_12_17_07_49_28</strong> at: <a href='https://wandb.ai/tmdrjs0040/lstm_regression_btc_krw/runs/kmzgb2ij' target=\"_blank\">https://wandb.ai/tmdrjs0040/lstm_regression_btc_krw/runs/kmzgb2ij</a><br> View project at: <a href='https://wandb.ai/tmdrjs0040/lstm_regression_btc_krw' target=\"_blank\">https://wandb.ai/tmdrjs0040/lstm_regression_btc_krw</a><br>Synced 5 W&B file(s), 0 media file(s), 0 artifact file(s) and 0 other file(s)"
      ],
      "text/plain": [
       "<IPython.core.display.HTML object>"
      ]
     },
     "metadata": {},
     "output_type": "display_data"
    },
    {
     "data": {
      "text/html": [
       "Find logs at: <code>./wandb/run-20241217_074944-kmzgb2ij/logs</code>"
      ],
      "text/plain": [
       "<IPython.core.display.HTML object>"
      ]
     },
     "metadata": {},
     "output_type": "display_data"
    },
    {
     "name": "stdout",
     "output_type": "stream",
     "text": [
      "MODEL FILE: /home/work/DL/4/checkpoints/lstm_regression_btc_krw_checkpoint_latest.pt\n",
      "[TEST DATA]\n",
      " 0: 232.33 <--> 1,125.35 (Loss:        893.01)\n",
      " 1: 230.78 <--> 1,059.85 (Loss:        829.07)\n",
      " 2: 235.33 <--> 1,224.73 (Loss:        989.40)\n",
      " 3: 235.85 <--> 1,334.58 (Loss:      1,098.73)\n",
      " 4: 235.77 <--> 1,331.62 (Loss:      1,095.85)\n",
      " 5: 236.15 <--> 1,373.29 (Loss:      1,137.14)\n",
      " 6: 234.91 <--> 1,259.24 (Loss:      1,024.34)\n",
      " 7: 235.24 <--> 1,319.45 (Loss:      1,084.21)\n",
      " 8: 232.28 <--> 1,070.26 (Loss:        837.98)\n",
      " 9: 232.44 <--> 1,073.52 (Loss:        841.08)\n",
      "10: 231.19 <--> 959.09 (Loss:        727.91)\n",
      "11: 234.10 <--> 1,238.69 (Loss:      1,004.60)\n",
      "12: 235.97 <--> 1,390.43 (Loss:      1,154.46)\n",
      "13: 235.99 <--> 1,284.38 (Loss:      1,048.39)\n",
      "14: 235.71 <--> 1,360.09 (Loss:      1,124.39)\n",
      "15: 235.18 <--> 1,264.13 (Loss:      1,028.95)\n",
      "16: 235.02 <--> 1,254.02 (Loss:      1,019.00)\n",
      "17: 230.67 <--> 957.10 (Loss:        726.43)\n",
      "18: 231.18 <--> 956.43 (Loss:        725.24)\n",
      "19: 235.96 <--> 1,302.60 (Loss:      1,066.64)\n",
      "20: 235.99 <--> 1,378.05 (Loss:      1,142.06)\n",
      "21: 232.03 <--> 1,047.88 (Loss:        815.85)\n",
      "22: 235.23 <--> 1,271.21 (Loss:      1,035.98)\n",
      "23: 230.74 <--> 931.83 (Loss:        701.10)\n",
      "24: 230.80 <--> 948.70 (Loss:        717.90)\n",
      "25: 235.41 <--> 1,380.87 (Loss:      1,145.46)\n",
      "26: 233.02 <--> 1,243.20 (Loss:      1,010.18)\n",
      "27: 235.10 <--> 1,286.65 (Loss:      1,051.55)\n",
      "28: 234.93 <--> 1,272.01 (Loss:      1,037.08)\n",
      "29: 231.23 <--> 964.63 (Loss:        733.40)\n"
     ]
    },
    {
     "data": {
      "image/png": "[encoded data removed]",
      "text/plain": [
       "<Figure size 600x900 with 3 Axes>"
      ]
     },
     "metadata": {},
     "output_type": "display_data"
    }
   ],
   "source": [
    "if __name__ == '__main__':\n",
    "    epochs = 1000\n",
    "    batch_size = 32\n",
    "    validation_intervals = 10\n",
    "    learning_rate = 1e-3\n",
    "    early_stop_patience = 10\n",
    "    early_stop_delta = 0.00001\n",
    "    weight_decay  = 0.001\n",
    "  \n",
    "    main_train(epochs, batch_size, validation_intervals, learning_rate,early_stop_patience, early_stop_delta, weight_decay)\n",
    "    main_test(epochs, batch_size, validation_intervals, learning_rate, early_stop_patience, early_stop_delta)\n",
    "        "
   ]
  },
  {
   "cell_type": "markdown",
   "id": "ddf78071",
   "metadata": {},
   "source": [
    "출력결과를 보면 train, validation, test모두 차이가 많이 나며 예측 결과가 거의 일직선을 그린다.\n"
   ]
  }
 ],
 "metadata": {
  "kernelspec": {
   "display_name": "PyTorch 2.3 (NGC 24.03/Python 3.10) on Backend.AI",
   "language": "python",
   "name": "python3"
  },
  "language_info": {
   "codemirror_mode": {
    "name": "ipython",
    "version": 3
   },
   "file_extension": ".py",
   "mimetype": "text/x-python",
   "name": "python",
   "nbconvert_exporter": "python",
   "pygments_lexer": "ipython3",
   "version": "3.10.12"
  }
 },
 "nbformat": 4,
 "nbformat_minor": 5
}
