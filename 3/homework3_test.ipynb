{
 "cells": [
  {
   "cell_type": "code",
   "id": "initial_id",
   "metadata": {
    "collapsed": true,
    "ExecuteTime": {
     "end_time": "2024-11-23T12:21:30.647571Z",
     "start_time": "2024-11-23T12:21:30.643994Z"
    }
   },
   "source": [
    "import os\n",
    "import torch\n",
    "from torch import nn\n",
    "import random"
   ],
   "outputs": [],
   "execution_count": 41
  },
  {
   "metadata": {
    "ExecuteTime": {
     "end_time": "2024-11-23T12:21:31.030519Z",
     "start_time": "2024-11-23T12:21:31.027020Z"
    }
   },
   "cell_type": "code",
   "source": [
    "from torch.utils.data import DataLoader, random_split\n",
    "from torchvision import datasets\n",
    "from torchvision.transforms import transforms"
   ],
   "id": "fde6f30229d1235e",
   "outputs": [],
   "execution_count": 42
  },
  {
   "metadata": {
    "ExecuteTime": {
     "end_time": "2024-11-23T12:21:31.222638Z",
     "start_time": "2024-11-23T12:21:31.216702Z"
    }
   },
   "cell_type": "code",
   "source": [
    "def get_fashion_mnist_test_data():\n",
    "    f_mnist_test_images = datasets.FashionMNIST(\"./data\", train=False, download=True)\n",
    "    f_mnist_test = datasets.FashionMNIST(\"./data\", train=False, download=True, transform=transforms.ToTensor())\n",
    "    \n",
    "    print(\"Num Test Samples: \", len(f_mnist_test))\n",
    "    print(\"Sample Shape: \", f_mnist_test[0][0].shape)  # torch.Size([1, 28, 28])\n",
    "\n",
    "    test_data_loader = DataLoader(dataset=f_mnist_test, batch_size=len(f_mnist_test))\n",
    "\n",
    "    f_mnist_transforms = nn.Sequential(\n",
    "        transforms.ConvertImageDtype(torch.float),\n",
    "        transforms.Normalize(mean=0.2860495448112488, std=0.32041478157043457), \n",
    "                    # train 데이터와 동일한 값으로 정규화를 해주어야 train data로 학습한 패턴을 적용할 수 있다.\n",
    "    )\n",
    "\n",
    "    return f_mnist_test_images, test_data_loader, f_mnist_transforms"
   ],
   "id": "cb26d23191646224",
   "outputs": [],
   "execution_count": 43
  },
  {
   "metadata": {
    "ExecuteTime": {
     "end_time": "2024-11-23T12:21:31.426045Z",
     "start_time": "2024-11-23T12:21:31.418210Z"
    }
   },
   "cell_type": "code",
   "source": [
    "def get_vgg_model(dropout=0.5):\n",
    "    def vgg_block(num_conv_layer, out_channels):\n",
    "        layers = []\n",
    "        for _ in range(num_conv_layer):\n",
    "            layers.append(nn.LazyConv2d(\n",
    "                out_channels=out_channels, kernel_size=3, padding=1\n",
    "                )\n",
    "            )\n",
    "            layers.append(nn.BatchNorm2d(num_features=out_channels))\n",
    "            layers.append(nn.ReLU())\n",
    "        layers.append(nn.MaxPool2d(kernel_size=2, stride=2))\n",
    "        block = nn.Sequential(*layers)\n",
    "        return block\n",
    "    \n",
    "    class VGG(nn.Module):\n",
    "        def __init__(self, block_info, n_output=10):\n",
    "            super().__init__()\n",
    "            conv_blocks=[]\n",
    "            for(num_conv_layers, out_channels) in block_info:\n",
    "                conv_blocks.append(vgg_block(num_conv_layers, out_channels))\n",
    "            \n",
    "            self.model = nn.Sequential(\n",
    "                *conv_blocks,\n",
    "                nn.Flatten(), \n",
    "                nn.LazyLinear(out_features = 256),\n",
    "                nn.ReLU(),\n",
    "                nn.Dropout(p=dropout),\n",
    "                nn.LazyLinear(out_features = 128),\n",
    "                nn.ReLU(),\n",
    "                nn.LazyLinear(out_features = 64),\n",
    "                nn.ReLU(),\n",
    "                nn.Dropout(p=dropout),\n",
    "                nn.LazyLinear(n_output)\n",
    "            )\n",
    "            \n",
    "        def forward(self, x):\n",
    "            x = self.model(x)\n",
    "            return x\n",
    "    \n",
    "    my_model = VGG(\n",
    "        block_info = (\n",
    "            (3, 128), (3, 256)\n",
    "        ),\n",
    "        n_output = 10\n",
    "    )\n",
    "    return my_model\n",
    "        "
   ],
   "id": "e5218a94027a1a0d",
   "outputs": [],
   "execution_count": 44
  },
  {
   "metadata": {
    "ExecuteTime": {
     "end_time": "2024-11-23T12:21:31.910444Z",
     "start_time": "2024-11-23T12:21:31.902293Z"
    }
   },
   "cell_type": "code",
   "source": [
    "class ClassificationTester:\n",
    "  def __init__(self, project_name, model, test_data_loader, transforms, checkpoint_file_path):\n",
    "    self.project_name = project_name\n",
    "    self.model = model\n",
    "    self.test_data_loader = test_data_loader\n",
    "    self.transforms = transforms\n",
    "    self.latest_file_path = os.path.join(\n",
    "      checkpoint_file_path, f\"{project_name}.pt\"\n",
    "    )\n",
    "\n",
    "    print(\"MODEL FILE: {0}\".format(self.latest_file_path))\n",
    "\n",
    "    self.model.load_state_dict(torch.load(self.latest_file_path, map_location=torch.device('cpu')))\n",
    "\n",
    "  def test(self):\n",
    "    self.model.eval()    # Explained at 'Diverse Techniques' section\n",
    "\n",
    "    num_corrects_test = 0\n",
    "    num_tested_samples = 0\n",
    "\n",
    "    with torch.no_grad():\n",
    "      for test_batch in self.test_data_loader:\n",
    "        input_test, target_test = test_batch\n",
    "\n",
    "        if self.transforms:\n",
    "          input_test = self.transforms(input_test)\n",
    "\n",
    "        output_test = self.model(input_test)\n",
    "\n",
    "        predicted_test = torch.argmax(output_test, dim=-1)\n",
    "        num_corrects_test += torch.sum(torch.eq(predicted_test, target_test))\n",
    "\n",
    "        num_tested_samples += len(input_test)\n",
    "\n",
    "      test_accuracy = 100.0 * num_corrects_test / num_tested_samples\n",
    "\n",
    "    print(f\"TEST RESULTS: {test_accuracy:6.3f}%\")\n",
    "\n",
    "  def test_single(self, input_test):\n",
    "    self.model.eval()    # Explained at 'Diverse Techniques' section\n",
    "\n",
    "    with torch.no_grad():\n",
    "      input_test = self.transforms(input_test)\n",
    "\n",
    "      output_test = self.model(input_test)\n",
    "      predicted_test = torch.argmax(output_test, dim=-1)\n",
    "\n",
    "    return predicted_test.item()\n"
   ],
   "id": "234767ae4c20b254",
   "outputs": [],
   "execution_count": 45
  },
  {
   "metadata": {},
   "cell_type": "code",
   "outputs": [],
   "execution_count": null,
   "source": [
    "CHECKPOINT_FILE_PATH = os.path.join(os.getcwd(), \"checkpoints\")\n",
    "f_mnist_test_images, test_data_loader, f_mnist_transforms = get_fashion_mnist_test_data()"
   ],
   "id": "89bf98effa03d24d"
  },
  {
   "metadata": {
    "ExecuteTime": {
     "end_time": "2024-11-23T12:50:18.242352Z",
     "start_time": "2024-11-23T12:49:32.615090Z"
    }
   },
   "cell_type": "code",
   "source": [
    "test_model22 = get_vgg_model()\n",
    "classification_tester22 = ClassificationTester(\n",
    "    \"22\", test_model22, test_data_loader, f_mnist_transforms, CHECKPOINT_FILE_PATH\n",
    "  )\n",
    "classification_tester22.test()"
   ],
   "id": "48a36215d2ed7ead",
   "outputs": [
    {
     "name": "stdout",
     "output_type": "stream",
     "text": [
      "MODEL FILE: C:\\Users\\pc\\PycharmProjects\\link_dl\\git\\link_dl\\_03_your_code\\3\\checkpoints\\22.pt\n"
     ]
    },
    {
     "name": "stderr",
     "output_type": "stream",
     "text": [
      "C:\\Users\\pc\\AppData\\Local\\Temp\\ipykernel_17760\\3970931959.py:13: FutureWarning: You are using `torch.load` with `weights_only=False` (the current default value), which uses the default pickle module implicitly. It is possible to construct malicious pickle data which will execute arbitrary code during unpickling (See https://github.com/pytorch/pytorch/blob/main/SECURITY.md#untrusted-models for more details). In a future release, the default value for `weights_only` will be flipped to `True`. This limits the functions that could be executed during unpickling. Arbitrary objects will no longer be allowed to be loaded via this mode unless they are explicitly allowlisted by the user via `torch.serialization.add_safe_globals`. We recommend you start setting `weights_only=True` for any use case where you don't have full control of the loaded file. Please open an issue on GitHub for any issues related to this experimental feature.\n",
      "  self.model.load_state_dict(torch.load(self.latest_file_path, map_location=torch.device('cpu')))\n"
     ]
    },
    {
     "name": "stdout",
     "output_type": "stream",
     "text": [
      "TEST RESULTS: 93.220%\n"
     ]
    }
   ],
   "execution_count": 48
  },
  {
   "metadata": {
    "ExecuteTime": {
     "end_time": "2024-11-23T12:51:04.786200Z",
     "start_time": "2024-11-23T12:50:18.243866Z"
    }
   },
   "cell_type": "code",
   "source": [
    "test_model23 = get_vgg_model()\n",
    "classification_tester23 = ClassificationTester(\n",
    "    \"23\", test_model23, test_data_loader, f_mnist_transforms, CHECKPOINT_FILE_PATH\n",
    "  )\n",
    "classification_tester23.test()"
   ],
   "id": "339271866a939297",
   "outputs": [
    {
     "name": "stdout",
     "output_type": "stream",
     "text": [
      "MODEL FILE: C:\\Users\\pc\\PycharmProjects\\link_dl\\git\\link_dl\\_03_your_code\\3\\checkpoints\\23.pt\n"
     ]
    },
    {
     "name": "stderr",
     "output_type": "stream",
     "text": [
      "C:\\Users\\pc\\AppData\\Local\\Temp\\ipykernel_17760\\3970931959.py:13: FutureWarning: You are using `torch.load` with `weights_only=False` (the current default value), which uses the default pickle module implicitly. It is possible to construct malicious pickle data which will execute arbitrary code during unpickling (See https://github.com/pytorch/pytorch/blob/main/SECURITY.md#untrusted-models for more details). In a future release, the default value for `weights_only` will be flipped to `True`. This limits the functions that could be executed during unpickling. Arbitrary objects will no longer be allowed to be loaded via this mode unless they are explicitly allowlisted by the user via `torch.serialization.add_safe_globals`. We recommend you start setting `weights_only=True` for any use case where you don't have full control of the loaded file. Please open an issue on GitHub for any issues related to this experimental feature.\n",
      "  self.model.load_state_dict(torch.load(self.latest_file_path, map_location=torch.device('cpu')))\n"
     ]
    },
    {
     "name": "stdout",
     "output_type": "stream",
     "text": [
      "TEST RESULTS: 93.660%\n"
     ]
    }
   ],
   "execution_count": 49
  },
  {
   "metadata": {},
   "cell_type": "markdown",
   "source": [
    "[문제 4] 샘플 테스트 데이터 분류 예측 결과 확인하기  \n",
    "– 10,000개의 테스트 데이터 중 10개를 임의로 선\n",
    "1) 해당 이미지를 출력 \n",
    "2) 해당 이미지의 레이블을 출력\n",
    "3) 학습 완료된 모델을 사용하여 해당 이미지의 분류 예측 결과를 출력하여  \n",
    "4) 이미지 레이블과 분류 예측결과가 동일한지 점검"
   ],
   "id": "1ad3940b28028501"
  },
  {
   "metadata": {
    "ExecuteTime": {
     "end_time": "2024-11-23T13:14:05.541553Z",
     "start_time": "2024-11-23T13:14:05.362681Z"
    }
   },
   "cell_type": "code",
   "source": [
    "check = False #잘못 예측된 것이 뽑혔는지 확인하는 용도\n",
    "while True:\n",
    "    labels = []\n",
    "    num_samples = 10  # 선택할 샘플 수\n",
    "    total_samples = len(test_data_loader.dataset)\n",
    "    random_indices = random.sample(range(total_samples), num_samples)\n",
    "    for idx in random_indices:\n",
    "        image, label = f_mnist_test_images[idx]\n",
    "        image = transforms.ToTensor()(image).unsqueeze(0)\n",
    "        predicted_label22 = classification_tester22.test_single(image)\n",
    "        predicted_label23 = classification_tester23.test_single(image)\n",
    "        labels.append({\"idx\": idx,\"label\":label, \"label22\":predicted_label22, \"label23\":predicted_label23})\n",
    "        if label != predicted_label22 or label != predicted_label23:\n",
    "            check = True\n",
    "    if check == True:# 잘못 뽑힌 것이 있을 경우만 내보냄\n",
    "        break    \n",
    "\n",
    "for label in labels:\n",
    "    print(label) # 9251이 잘못 예측됨 \n",
    "                 # T-shirt/top 인데 Coat로 예측됨"
   ],
   "id": "68d81aa0121bc129",
   "outputs": [
    {
     "name": "stdout",
     "output_type": "stream",
     "text": [
      "{'idx': 1082, 'label': 1, 'label22': 1, 'label23': 1}\n",
      "{'idx': 2637, 'label': 4, 'label22': 4, 'label23': 4}\n",
      "{'idx': 7181, 'label': 6, 'label22': 6, 'label23': 6}\n",
      "{'idx': 8492, 'label': 7, 'label22': 7, 'label23': 7}\n",
      "{'idx': 2119, 'label': 3, 'label22': 3, 'label23': 3}\n",
      "{'idx': 7534, 'label': 8, 'label22': 8, 'label23': 8}\n",
      "{'idx': 4663, 'label': 8, 'label22': 8, 'label23': 8}\n",
      "{'idx': 9707, 'label': 5, 'label22': 5, 'label23': 5}\n",
      "{'idx': 8895, 'label': 2, 'label22': 2, 'label23': 2}\n",
      "{'idx': 9251, 'label': 0, 'label22': 4, 'label23': 4}\n"
     ]
    }
   ],
   "execution_count": 62
  },
  {
   "metadata": {
    "ExecuteTime": {
     "end_time": "2024-11-23T13:27:05.274077Z",
     "start_time": "2024-11-23T13:27:05.173804Z"
    }
   },
   "cell_type": "code",
   "source": [
    "import matplotlib.pyplot as plt\n",
    "\n",
    "# Coat로 예측된 T-Shirt 샘플\n",
    "image, label1 = f_mnist_test_images[9251]\n",
    "image = transforms.ToTensor()(image).unsqueeze(0)\n",
    "plt.figure(figsize=(12, 6))\n",
    "plt.imshow(image.squeeze(0).squeeze(0), cmap='gray')\n",
    "plt.show()"
   ],
   "id": "c739c630b540a1f9",
   "outputs": [
    {
     "data": {
      "text/plain": [
       "<Figure size 640x480 with 1 Axes>"
      ],
      "image/png": "[encoded data removed]"
     },
     "metadata": {},
     "output_type": "display_data"
    }
   ],
   "execution_count": 74
  },
  {
   "metadata": {
    "ExecuteTime": {
     "end_time": "2024-11-23T13:34:07.513468Z",
     "start_time": "2024-11-23T13:34:07.202217Z"
    }
   },
   "cell_type": "code",
   "source": [
    "# 원래 Coat인 샘플\n",
    "for i, idx in enumerate({2637, 8673, 7733,2570, 9509, 815}):\n",
    "    image, label2 = f_mnist_test_images[idx]\n",
    "    image = transforms.ToTensor()(image).unsqueeze(0)\n",
    "    plt.figure(figsize=(12, 6))\n",
    "    plt.subplot(1,6,i+1)\n",
    "    plt.imshow(image.squeeze(0).squeeze(0), cmap='gray')\n",
    "plt.show()\n",
    "#{'idx': 8673, 'label': 4, 'label22': 4, 'label23': 4}\n",
    "#{'idx': 7733, 'label': 4, 'label22': 4, 'label23': 4}\n",
    "#{'idx': 2570, 'label': 4, 'label22': 4, 'label23': 4}\n",
    "#{'idx': 9509, 'label': 4, 'label22': 4, 'label23': 4}\n",
    "#{'idx': 815, 'label': 4, 'label22': 4, 'label23': 4}"
   ],
   "id": "991918ee52894c87",
   "outputs": [
    {
     "data": {
      "text/plain": [
       "<Figure size 1200x600 with 1 Axes>"
      ],
      "image/png": "[encoded data removed]"
     },
     "metadata": {},
     "output_type": "display_data"
    },
    {
     "data": {
      "text/plain": [
       "<Figure size 1200x600 with 1 Axes>"
      ],
      "image/png": "[encoded data removed]"
     },
     "metadata": {},
     "output_type": "display_data"
    },
    {
     "data": {
      "text/plain": [
       "<Figure size 1200x600 with 1 Axes>"
      ],
      "image/png": "[encoded data removed]"
     },
     "metadata": {},
     "output_type": "display_data"
    },
    {
     "data": {
      "text/plain": [
       "<Figure size 1200x600 with 1 Axes>"
      ],
      "image/png": "[encoded data removed]"
     },
     "metadata": {},
     "output_type": "display_data"
    },
    {
     "data": {
      "text/plain": [
       "<Figure size 1200x600 with 1 Axes>"
      ],
      "image/png": "[encoded data removed]"
     },
     "metadata": {},
     "output_type": "display_data"
    },
    {
     "data": {
      "text/plain": [
       "<Figure size 1200x600 with 1 Axes>"
      ],
      "image/png": "[encoded data removed]"
     },
     "metadata": {},
     "output_type": "display_data"
    }
   ],
   "execution_count": 88
  },
  {
   "metadata": {
    "ExecuteTime": {
     "end_time": "2024-11-23T13:32:39.688694Z",
     "start_time": "2024-11-23T13:32:39.472557Z"
    }
   },
   "cell_type": "code",
   "source": [
    "# 원래 T-shirt인 샘플\n",
    "for i, idx in enumerate({3504, 4454,4351, 8420}):\n",
    "    image, label3 = f_mnist_test_images[idx]\n",
    "    image = transforms.ToTensor()(image).unsqueeze(0)\n",
    "    plt.figure(figsize=(12, 6))\n",
    "    plt.subplot(1,5,i+1)\n",
    "    plt.imshow(image.squeeze(0).squeeze(0), cmap='gray')\n",
    "plt.show()\n",
    "\n",
    "#{'idx': 4454, 'label': 0, 'label22': 0, 'label23': 0}\n",
    "#{'idx': 3504, 'label': 0, 'label22': 0, 'label23': 0}\n",
    "#{'idx': 4351, 'label': 0, 'label22': 0, 'label23': 0}\n",
    "#{'idx': 8420, 'label': 0, 'label22': 0, 'label23': 0}"
   ],
   "id": "f37ebf409bcc52a6",
   "outputs": [
    {
     "data": {
      "text/plain": [
       "<Figure size 1200x600 with 1 Axes>"
      ],
      "image/png": "[encoded data removed]"
     },
     "metadata": {},
     "output_type": "display_data"
    },
    {
     "data": {
      "text/plain": [
       "<Figure size 1200x600 with 1 Axes>"
      ],
      "image/png": "[encoded data removed]"
     },
     "metadata": {},
     "output_type": "display_data"
    },
    {
     "data": {
      "text/plain": [
       "<Figure size 1200x600 with 1 Axes>"
      ],
      "image/png": "[encoded data removed]"
     },
     "metadata": {},
     "output_type": "display_data"
    },
    {
     "data": {
      "text/plain": [
       "<Figure size 1200x600 with 1 Axes>"
      ],
      "image/png": "[encoded data removed]"
     },
     "metadata": {},
     "output_type": "display_data"
    }
   ],
   "execution_count": 81
  },
  {
   "metadata": {},
   "cell_type": "markdown",
   "source": [
    "# 잘못 예측된 이유 예상하기\n",
    "- label 0과 4의 차이를 보기 위해서 여러번 랜덤으로 예측을 진행해 0 또는 4의 label을 가지는 샘플을 찾아서 이미지를 출력진행했다.\n",
    "- 샘플 개수가 부족해서 그런지 몰라도 0에서 반팔만 출력되었고, 여기서 확실하게 반팔임을 알 수 있게 팔쪽이 잘려 있는 모습이 보인다.\n",
    "- 반면 9251 샘플의 경우 잘려 있지 않아 잘못 예측된 것이 아닐까라는 생각이 들었다.\n",
    "- 만약 label 0에 긴팔도 다수 있는데 내가 보지 못한 것이라면 9251 샘플의 경우 label 4에서 뽑은 샘플 중 4번째와 같이 목 근처의 부분과 그 외의 부분 색 차이가 나는 모습이 보이는데, 이에 따라 잘못 예측된 것 같다.\n"
   ],
   "id": "5cd113b0411a3827"
  },
  {
   "metadata": {},
   "cell_type": "markdown",
   "source": [
    "# 숙제 후기\n",
    "\n",
    "적절한 하이퍼파라미터 또는 모델 구조를 찾는 방법이 따로 있는게 아니라 경험상으로 좋을 것 같다를 찾아야 하는게 어려웠다."
   ],
   "id": "508cef6cc5d90066"
  }
 ],
 "metadata": {
  "kernelspec": {
   "display_name": "Python 3",
   "language": "python",
   "name": "python3"
  },
  "language_info": {
   "codemirror_mode": {
    "name": "ipython",
    "version": 2
   },
   "file_extension": ".py",
   "mimetype": "text/x-python",
   "name": "python",
   "nbconvert_exporter": "python",
   "pygments_lexer": "ipython2",
   "version": "2.7.6"
  }
 },
 "nbformat": 4,
 "nbformat_minor": 5
}
